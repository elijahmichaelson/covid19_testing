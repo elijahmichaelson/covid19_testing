{
 "cells": [
  {
   "cell_type": "code",
   "execution_count": 1,
   "metadata": {},
   "outputs": [],
   "source": [
    "import random\n",
    "import math\n",
    "import matplotlib.pyplot as plt"
   ]
  },
  {
   "cell_type": "code",
   "execution_count": 2,
   "metadata": {},
   "outputs": [],
   "source": [
    "### PARAMETERS ###\n",
    "t = 3500 #total num samples\n",
    "p = .075 #probability random sample tests positive"
   ]
  },
  {
   "cell_type": "code",
   "execution_count": 3,
   "metadata": {},
   "outputs": [
    {
     "name": "stdout",
     "output_type": "stream",
     "text": [
      "average patient positivity rate: 0.075\n",
      "total samples: 3500\n",
      "num positives: 262\n"
     ]
    }
   ],
   "source": [
    "'''\n",
    "simulate a single PCR test for a mixed grouping of samples.\n",
    "'''\n",
    "def PCR(simulation, group, cntr):\n",
    "    res = 'negative'\n",
    "    for sample in group:\n",
    "        if simulation[sample] == 'positive':\n",
    "            res = 'positive'\n",
    "    cntr += 1\n",
    "    return res, cntr\n",
    "\n",
    "\n",
    "ids = [i for i in range(t)]\n",
    "random.shuffle(ids)\n",
    "pos = ids[:int(p*t)]\n",
    "\n",
    "print('average patient positivity rate:', p)\n",
    "print('total samples:', t)\n",
    "print('num positives:', len(pos))"
   ]
  },
  {
   "cell_type": "code",
   "execution_count": 4,
   "metadata": {},
   "outputs": [
    {
     "name": "stdout",
     "output_type": "stream",
     "text": [
      "group size: 1 . total number of tests: 3500\n",
      "   speedup: 1.0\n",
      "group size: 2 . total number of tests: 2256\n",
      "   speedup: 0.6445714285714286\n",
      "group size: 3 . total number of tests: 1881\n",
      "   speedup: 0.5374285714285715\n",
      "group size: 4 . total number of tests: 1815\n",
      "   speedup: 0.5185714285714286\n",
      "group size: 5 . total number of tests: 1855\n",
      "   speedup: 0.53\n",
      "group size: 6 . total number of tests: 1868\n",
      "   speedup: 0.5337142857142857\n",
      "group size: 7 . total number of tests: 1991\n",
      "   speedup: 0.5688571428571428\n",
      "group size: 8 . total number of tests: 2006\n",
      "   speedup: 0.5731428571428572\n",
      "group size: 9 . total number of tests: 2153\n",
      "   speedup: 0.6151428571428571\n",
      "group size: 10 . total number of tests: 2240\n",
      "   speedup: 0.64\n",
      "group size: 11 . total number of tests: 2310\n",
      "   speedup: 0.66\n",
      "group size: 12 . total number of tests: 2328\n",
      "   speedup: 0.6651428571428571\n",
      "group size: 13 . total number of tests: 2636\n",
      "   speedup: 0.7531428571428571\n",
      "group size: 14 . total number of tests: 2714\n",
      "   speedup: 0.7754285714285715\n",
      "group size: 15 . total number of tests: 2579\n",
      "   speedup: 0.7368571428571429\n",
      "group size: 16 . total number of tests: 2743\n",
      "   speedup: 0.7837142857142857\n"
     ]
    }
   ],
   "source": [
    "simulation = {}\n",
    "for i in range(t):\n",
    "    if i in pos:\n",
    "        simulation[i] = 'positive'\n",
    "    else:\n",
    "        simulation[i] = 'negative'\n",
    "\n",
    "#for plotting results\n",
    "x = []\n",
    "y = []\n",
    "\n",
    "for group_size in range(int(math.log(t) * 2)):\n",
    "    group_size += 1\n",
    "    random.shuffle(ids)\n",
    "    \n",
    "    groups = [ids[i * group_size:(i + 1) * group_size] for i in range((len(ids) + group_size-1) // group_size )]\n",
    "\n",
    "    test_counter = 0\n",
    "    tested_positive = []\n",
    "    tested_negative = []\n",
    "    redos = []\n",
    "    for group in groups:\n",
    "        group_result, test_counter = PCR(simulation, group, test_counter)\n",
    "        if group_result == 'positive':\n",
    "            for sample in group:\n",
    "                if group_size == 1:\n",
    "                    tested_positive.append(sample)\n",
    "                else:\n",
    "                    redos.append(sample)\n",
    "        else:\n",
    "            for sample in group:\n",
    "                tested_negative.append(sample)\n",
    "\n",
    "    #run redos\n",
    "    for sample in redos:\n",
    "        result, test_counter = PCR(simulation, [sample], test_counter)\n",
    "        if result == 'positive':\n",
    "            tested_positive.append(sample)\n",
    "\n",
    "    assert(set(tested_positive) == set(pos))\n",
    "\n",
    "    print('group size:', group_size, '. total number of tests:', test_counter)\n",
    "    print('   speedup:', test_counter / float(t))\n",
    "    x.append(group_size)\n",
    "    y.append(test_counter)"
   ]
  },
  {
   "cell_type": "code",
   "execution_count": 5,
   "metadata": {},
   "outputs": [
    {
     "data": {
      "image/png": "[encoded data removed]",
      "text/plain": [
       "<Figure size 432x288 with 1 Axes>"
      ]
     },
     "metadata": {
      "needs_background": "light"
     },
     "output_type": "display_data"
    }
   ],
   "source": [
    "plt.title('average patient positivity rate: ' + str(p))\n",
    "plt.xlabel('grouping size')\n",
    "plt.ylabel('total number PCR tests run')\n",
    "plt.plot(x,y)\n",
    "plt.show()"
   ]
  },
  {
   "cell_type": "code",
   "execution_count": null,
   "metadata": {},
   "outputs": [],
   "source": []
  },
  {
   "cell_type": "code",
   "execution_count": null,
   "metadata": {},
   "outputs": [],
   "source": []
  }
 ],
 "metadata": {
  "kernelspec": {
   "display_name": "Python 3",
   "language": "python",
   "name": "python3"
  },
  "language_info": {
   "codemirror_mode": {
    "name": "ipython",
    "version": 3
   },
   "file_extension": ".py",
   "mimetype": "text/x-python",
   "name": "python",
   "nbconvert_exporter": "python",
   "pygments_lexer": "ipython3",
   "version": "3.6.7"
  }
 },
 "nbformat": 4,
 "nbformat_minor": 2
}
